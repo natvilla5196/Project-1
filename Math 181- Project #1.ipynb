{
 "cells": [
  {
   "cell_type": "code",
   "execution_count": 75,
   "metadata": {},
   "outputs": [
    {
     "data": {
      "text/plain": [
       "[2, 13.0, ';', 40, 11, 59]"
      ]
     },
     "execution_count": 75,
     "metadata": {},
     "output_type": "execute_result"
    }
   ],
   "source": [
    "def IntegertoSixty(num):\n",
    "    count = []\n",
    "\n",
    "    while (num > 60):\n",
    "        \n",
    "        test = 1\n",
    "        count2 = 0\n",
    "        \n",
    "        while (test < num):\n",
    "            test = test * 60\n",
    "        while (num > 0):\n",
    "            num = num - (test/60)\n",
    "            count2 = count2 + 1\n",
    "        \n",
    "        num = num + test/60\n",
    "        count2 = count2 - 1 \n",
    "        \n",
    "        count.append(count2)\n",
    "        \n",
    "    count.append(num)\n",
    "    return count\n",
    "\n",
    "def DecimaltoSixty(dec,epsilon):\n",
    "\n",
    "    count = []\n",
    "    \n",
    "    while (dec > epsilon):\n",
    "        test = 1\n",
    "\n",
    "        while (test > dec):\n",
    "            test = test / 60\n",
    "            \n",
    "        count2 = 0\n",
    "        \n",
    "        while (dec - test > 0):\n",
    "            dec = dec - test\n",
    "            count2 = count2 + 1\n",
    "            \n",
    "        count.append(count2)\n",
    "        \n",
    "    return count\n",
    "\n",
    "def NumbertoSixty(num,epsilon):\n",
    "    count = []\n",
    "    intcount = []\n",
    "    deccount = []\n",
    "    \n",
    "    if (int(num) != num):\n",
    "        intcount = IntegertoSixty(int(num))\n",
    "        deccount = DecimaltoSixty(num - int(num),epsilon)\n",
    "        \n",
    "        for i in range(0,len(intcount)):\n",
    "            count.append(intcount[i])\n",
    "\n",
    "        count.append(';')\n",
    "        \n",
    "        for i in range(0,len(deccount)):\n",
    "            count.append(deccount[i])\n",
    "\n",
    "        return count\n",
    "\n",
    "NumbertoSixty(133.67,.00005)"
   ]
  }
 ],
 "metadata": {
  "kernelspec": {
   "display_name": "Python 3",
   "language": "python",
   "name": "python3"
  },
  "language_info": {
   "codemirror_mode": {
    "name": "ipython",
    "version": 3
   },
   "file_extension": ".py",
   "mimetype": "text/x-python",
   "name": "python",
   "nbconvert_exporter": "python",
   "pygments_lexer": "ipython3",
   "version": "3.7.1"
  }
 },
 "nbformat": 4,
 "nbformat_minor": 2
}
